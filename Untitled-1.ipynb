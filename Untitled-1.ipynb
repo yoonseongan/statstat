{
 "cells": [
  {
   "cell_type": "code",
   "execution_count": 1,
   "metadata": {},
   "outputs": [
    {
     "name": "stdout",
     "output_type": "stream",
     "text": [
      "12\n"
     ]
    }
   ],
   "source": [
    "print(12)"
   ]
  },
  {
   "cell_type": "code",
   "execution_count": 1,
   "metadata": {},
   "outputs": [],
   "source": [
    "import scipy"
   ]
  },
  {
   "cell_type": "code",
   "execution_count": 2,
   "metadata": {},
   "outputs": [],
   "source": [
    "import pandas as pd"
   ]
  },
  {
   "cell_type": "code",
   "execution_count": 3,
   "metadata": {},
   "outputs": [
    {
     "name": "stdout",
     "output_type": "stream",
     "text": [
      "143\n"
     ]
    }
   ],
   "source": [
    "print(143)"
   ]
  },
  {
   "cell_type": "code",
   "execution_count": 1,
   "metadata": {},
   "outputs": [
    {
     "name": "stdout",
     "output_type": "stream",
     "text": [
      "1241\n"
     ]
    }
   ],
   "source": [
    "print(1241)"
   ]
  },
  {
   "cell_type": "code",
   "execution_count": 4,
   "metadata": {},
   "outputs": [],
   "source": [
    "class Student:\n",
    "    def __init__(self, name, computer_score):\n",
    "        self.name = name\n",
    "        self.computer_score = computer_score\n",
    "\n",
    "    def get_name(self):\n",
    "        return self.name\n",
    "\n",
    "    def get_average_score(self):\n",
    "        return self.computer_score\n",
    "\n",
    "    def edit_computer_score(self, new_score):\n",
    "        self.computer_score = new_score\n",
    "\n",
    "\n",
    "class NaturalScienceStudent(Student):\n",
    "    def __init__(self, name, computer_score, science_score):\n",
    "        super().__init__(name, computer_score)\n",
    "        self.science_score = science_score\n",
    "\n",
    "    def get_average_score(self):\n",
    "        return (self.computer_score + self.science_score) / 2\n",
    "\n",
    "    def edit_science_score(self, new_score):\n",
    "        self.science_score = new_score\n",
    "\n",
    "\n",
    "class LiberalArtsStudent(Student):\n",
    "    def __init__(self, name, computer_score, sociology_score):\n",
    "        super().__init__(name, computer_score)\n",
    "        self.sociology_score = sociology_score\n",
    "\n",
    "    def get_average_score(self):\n",
    "        return (self.computer_score + self.sociology_score) / 2\n",
    "\n",
    "    def edit_sociology_score(self, new_score):\n",
    "        self.sociology_score = new_score\n",
    "\n",
    "\n",
    "class FirstGradeStudent(Student):\n",
    "    def __init__(self, name, computer_score, science_score, sociology_score):\n",
    "        super().__init__(name, computer_score)\n",
    "        self.science_score = science_score\n",
    "        self.sociology_score = sociology_score\n",
    "\n",
    "    def get_average_score(self):\n",
    "        return (self.computer_score + self.science_score + self.sociology_score) / 3\n"
   ]
  },
  {
   "cell_type": "code",
   "execution_count": 5,
   "metadata": {},
   "outputs": [
    {
     "name": "stdout",
     "output_type": "stream",
     "text": [
      "홍길동의 평균 점수: 90\n",
      "홍길동의 수정된 컴퓨터 점수: 95\n",
      "김천재의 평균 점수: 88.5\n",
      "김천재의 수정된 과학 점수: 88\n",
      "이예술의 평균 점수: 81.5\n",
      "이예술의 수정된 사회 점수: 82\n",
      "박일등의 평균 점수: 95.0\n"
     ]
    }
   ],
   "source": [
    "# Student 클래스 사용 예시\n",
    "student1 = Student(\"홍길동\", 90)\n",
    "print(f\"{student1.get_name()}의 평균 점수: {student1.get_average_score()}\")\n",
    "student1.edit_computer_score(95)\n",
    "print(f\"{student1.get_name()}의 수정된 컴퓨터 점수: {student1.computer_score}\")\n",
    "\n",
    "# NaturalScienceStudent 클래스 사용 예시\n",
    "science_student = NaturalScienceStudent(\"김천재\", 85, 92)\n",
    "print(f\"{science_student.get_name()}의 평균 점수: {science_student.get_average_score()}\")\n",
    "science_student.edit_science_score(88)\n",
    "print(f\"{science_student.get_name()}의 수정된 과학 점수: {science_student.science_score}\")\n",
    "\n",
    "# LiberalArtsStudent 클래스 사용 예시\n",
    "liberal_arts_student = LiberalArtsStudent(\"이예술\", 88, 75)\n",
    "print(f\"{liberal_arts_student.get_name()}의 평균 점수: {liberal_arts_student.get_average_score()}\")\n",
    "liberal_arts_student.edit_sociology_score(82)\n",
    "print(f\"{liberal_arts_student.get_name()}의 수정된 사회 점수: {liberal_arts_student.sociology_score}\")\n",
    "\n",
    "# FirstGradeStudent 클래스 사용 예시\n",
    "first_grade_student = FirstGradeStudent(\"박일등\", 95, 92, 98)\n",
    "print(f\"{first_grade_student.get_name()}의 평균 점수: {first_grade_student.get_average_score()}\")\n"
   ]
  },
  {
   "cell_type": "code",
   "execution_count": 7,
   "metadata": {},
   "outputs": [
    {
     "name": "stdout",
     "output_type": "stream",
     "text": [
      "\n",
      "ㅁㄴㅇ의 평균 점수: 12.0\n"
     ]
    }
   ],
   "source": [
    "# 한 학생의 점수를 받아오는 예시\n",
    "student_name = input(\"학생 이름을 입력하세요: \")\n",
    "computer_score = float(input(\"컴퓨터 점수를 입력하세요: \"))\n",
    "\n",
    "# Student 클래스 사용\n",
    "student = Student(student_name, computer_score)\n",
    "\n",
    "# 과목에 따라 점수 입력\n",
    "subject = input(\"과목을 입력하세요 (과학, 사회): \")\n",
    "\n",
    "if subject == \"과학\":\n",
    "    science_score = float(input(\"과학 점수를 입력하세요: \"))\n",
    "    student = NaturalScienceStudent(student_name, computer_score, science_score)\n",
    "if subject == \"사회\":\n",
    "    sociology_score = float(input(\"사회 점수를 입력하세요: \"))\n",
    "    student = LiberalArtsStudent(student_name, computer_score, sociology_score)\n",
    "\n",
    "# FirstGradeStudent의 경우 평균 점수 입력\n",
    "if isinstance(student, FirstGradeStudent):\n",
    "    average_score = float(input(\"평균 점수를 입력하세요: \"))\n",
    "    student.edit_computer_score(average_score)\n",
    "\n",
    "# 학생 정보 출력\n",
    "print(f\"\\n{student.get_name()}의 평균 점수: {student.get_average_score()}\")\n"
   ]
  },
  {
   "cell_type": "code",
   "execution_count": 19,
   "metadata": {},
   "outputs": [
    {
     "name": "stdout",
     "output_type": "stream",
     "text": [
      "홍길동의 초기 평균 점수: 0.0\n"
     ]
    },
    {
     "name": "stdout",
     "output_type": "stream",
     "text": [
      "홍길동의 업데이트된 평균 점수: 48.14814814814815\n"
     ]
    }
   ],
   "source": [
    "class Student:\n",
    "    def __init__(self, name, computer_score):\n",
    "        self.name = name\n",
    "        self.computer_score = computer_score\n",
    "\n",
    "    def get_name(self):\n",
    "        return self.name\n",
    "\n",
    "    def get_average_score(self):\n",
    "        return self.computer_score\n",
    "\n",
    "    def edit_computer_score(self, new_score):\n",
    "        self.computer_score = new_score\n",
    "\n",
    "class NaturalScienceStudent(Student):\n",
    "    def __init__(self, name, computer_score, science_score):\n",
    "        super().__init__(name, computer_score)\n",
    "        self.science_score = science_score\n",
    "\n",
    "    def get_average_score(self):\n",
    "        return (self.computer_score + self.science_score) / 2\n",
    "\n",
    "    def edit_science_score(self, new_score):\n",
    "        self.science_score = new_score\n",
    "        # 상위 클래스의 컴퓨터 점수도 업데이트\n",
    "        self.edit_computer_score((self.computer_score + new_score) / 2)\n",
    "\n",
    "class LiberalArtsStudent(Student):\n",
    "    def __init__(self, name, computer_score, sociology_score):\n",
    "        super().__init__(name, computer_score)\n",
    "        self.sociology_score = sociology_score\n",
    "\n",
    "    def get_average_score(self):\n",
    "        return (self.computer_score + self.sociology_score) / 2\n",
    "\n",
    "    def edit_sociology_score(self, new_score):\n",
    "        self.sociology_score = new_score\n",
    "        # 상위 클래스의 컴퓨터 점수도 업데이트\n",
    "        self.edit_computer_score((self.computer_score + new_score) / 2)\n",
    "\n",
    "class FirstGradeStudent(Student):\n",
    "    def __init__(self, name, computer_score, science_score, sociology_score):\n",
    "        super().__init__(name, computer_score)\n",
    "        self.science_score = science_score\n",
    "        self.sociology_score = sociology_score\n",
    "\n",
    "    def get_average_score(self):\n",
    "        return (self.computer_score + self.science_score + self.sociology_score) / 3\n",
    "\n",
    "    def edit_science_score(self, new_score):\n",
    "        self.science_score = new_score\n",
    "        # 상위 클래스의 컴퓨터 점수도 업데이트\n",
    "        self.edit_computer_score((self.computer_score + self.science_score + self.sociology_score) / 3)\n",
    "\n",
    "    def edit_sociology_score(self, new_score):\n",
    "        self.sociology_score = new_score\n",
    "        # 상위 클래스의 컴퓨터 점수도 업데이트\n",
    "        self.edit_computer_score((self.computer_score + self.science_score + self.sociology_score) / 3)\n",
    "\n",
    "# 예시 사용\n",
    "student = FirstGradeStudent(\"홍길동\", 0, 0, 0)\n",
    "print(f\"{student.get_name()}의 초기 평균 점수: {student.get_average_score()}\")\n",
    "\n",
    "# 과목 점수 업데이트\n",
    "new_computer_score = int(input(\"컴퓨터 점수를 입력하세요: \"))\n",
    "student.edit_computer_score(new_computer_score)\n",
    "\n",
    "new_science_score = int(input(\"과학 점수를 입력하세요: \"))\n",
    "student.edit_science_score(new_science_score)\n",
    "\n",
    "new_sociology_score = int(input(\"사회 점수를 입력하세요: \"))\n",
    "student.edit_sociology_score(new_sociology_score)\n",
    "\n",
    "# 업데이트된 평균 점수 출력\n",
    "print(f\"{student.get_name()}의 업데이트된 평균 점수: {student.get_average_score()}\")\n",
    "\n",
    "\n",
    "\n",
    "\n"
   ]
  },
  {
   "cell_type": "code",
   "execution_count": 20,
   "metadata": {},
   "outputs": [
    {
     "name": "stdout",
     "output_type": "stream",
     "text": [
      "홍길동의 초기 평균 점수: 0.0\n",
      "홍길동의 업데이트된 평균 점수: 48.14814814814815\n"
     ]
    }
   ],
   "source": [
    "class Student:\n",
    "    def __init__(self, name, computer_score):\n",
    "        self.name = name\n",
    "        self.computer_score = computer_score\n",
    "\n",
    "    def get_name(self):\n",
    "        return self.name\n",
    "\n",
    "    def get_average_score(self):\n",
    "        return self.computer_score\n",
    "\n",
    "    def edit_computer_score(self, new_score):\n",
    "        self.computer_score = new_score\n",
    "\n",
    "class NaturalScienceStudent(Student):\n",
    "    def __init__(self, name, computer_score, science_score):\n",
    "        super().__init__(name, computer_score)\n",
    "        self.science_score = science_score\n",
    "\n",
    "    def get_average_score(self):\n",
    "        return (self.computer_score + self.science_score) / 2\n",
    "\n",
    "    def edit_science_score(self, new_score):\n",
    "        self.science_score = new_score\n",
    "        # 상위 클래스의 컴퓨터 점수도 업데이트\n",
    "        self.edit_computer_score((self.computer_score + new_score) / 2)\n",
    "\n",
    "class LiberalArtsStudent(Student):\n",
    "    def __init__(self, name, computer_score, sociology_score):\n",
    "        super().__init__(name, computer_score)\n",
    "        self.sociology_score = sociology_score\n",
    "\n",
    "    def get_average_score(self):\n",
    "        return (self.computer_score + self.sociology_score) / 2\n",
    "\n",
    "    def edit_sociology_score(self, new_score):\n",
    "        self.sociology_score = new_score\n",
    "        # 상위 클래스의 컴퓨터 점수도 업데이트\n",
    "        self.edit_computer_score((self.computer_score + new_score) / 2)\n",
    "\n",
    "class FirstGradeStudent(Student):\n",
    "    def __init__(self, name, computer_score, science_score, sociology_score):\n",
    "        super().__init__(name, computer_score)\n",
    "        self.science_score = science_score\n",
    "        self.sociology_score = sociology_score\n",
    "\n",
    "    def get_average_score(self):\n",
    "        return (self.computer_score + self.science_score + self.sociology_score) / 3\n",
    "\n",
    "    def edit_science_score(self, new_score):\n",
    "        self.science_score = new_score\n",
    "        # 상위 클래스의 컴퓨터 점수도 업데이트\n",
    "        self.edit_computer_score((self.computer_score + self.science_score + self.sociology_score) / 3)\n",
    "\n",
    "    def edit_sociology_score(self, new_score):\n",
    "        self.sociology_score = new_score\n",
    "        # 상위 클래스의 컴퓨터 점수도 업데이트\n",
    "        self.edit_computer_score((self.computer_score + self.science_score + self.sociology_score) / 3)\n",
    "\n",
    "# 예시 사용\n",
    "student = FirstGradeStudent(\"홍길동\", 0, 0, 0)\n",
    "print(f\"{student.get_name()}의 초기 평균 점수: {student.get_average_score()}\")\n",
    "\n",
    "# 과목 점수 업데이트\n",
    "new_computer_score = int(input(\"컴퓨터 점수를 입력하세요: \"))\n",
    "student.edit_computer_score(new_computer_score)\n",
    "\n",
    "new_science_score = int(input(\"과학 점수를 입력하세요: \"))\n",
    "student.edit_science_score(new_science_score)\n",
    "\n",
    "new_sociology_score = int(input(\"사회 점수를 입력하세요: \"))\n",
    "student.edit_sociology_score(new_sociology_score)\n",
    "\n",
    "# 업데이트된 평균 점수 출력\n",
    "print(f\"{student.get_name()}의 업데이트된 평균 점수: {student.get_average_score()}\")\n"
   ]
  },
  {
   "cell_type": "code",
   "execution_count": 21,
   "metadata": {},
   "outputs": [
    {
     "name": "stdout",
     "output_type": "stream",
     "text": [
      "홍길동의 초기 평균 점수: 0.0\n",
      "홍길동의 업데이트된 평균 점수: 50.0\n"
     ]
    }
   ],
   "source": [
    "class Student:\n",
    "    def __init__(self, name, computer_score):\n",
    "        self.name = name\n",
    "        self.computer_score = computer_score\n",
    "\n",
    "    def get_name(self):\n",
    "        return self.name\n",
    "\n",
    "    def get_average_score(self):\n",
    "        return self.computer_score\n",
    "\n",
    "    def edit_computer_score(self, new_score):\n",
    "        self.computer_score = new_score\n",
    "\n",
    "class NaturalScienceStudent(Student):\n",
    "    def __init__(self, name, computer_score, science_score):\n",
    "        super().__init__(name, computer_score)\n",
    "        self.science_score = science_score\n",
    "\n",
    "    def get_average_score(self):\n",
    "        return (self.computer_score + self.science_score) / 2\n",
    "\n",
    "    def edit_science_score(self, new_score):\n",
    "        self.science_score = new_score\n",
    "\n",
    "class LiberalArtsStudent(Student):\n",
    "    def __init__(self, name, computer_score, sociology_score):\n",
    "        super().__init__(name, computer_score)\n",
    "        self.sociology_score = sociology_score\n",
    "\n",
    "    def get_average_score(self):\n",
    "        return (self.computer_score + self.sociology_score) / 2\n",
    "\n",
    "    def edit_sociology_score(self, new_score):\n",
    "        self.sociology_score = new_score\n",
    "\n",
    "class FirstGradeStudent(Student):\n",
    "    def __init__(self, name, computer_score, science_score, sociology_score):\n",
    "        super().__init__(name, computer_score)\n",
    "        self.science_score = science_score\n",
    "        self.sociology_score = sociology_score\n",
    "\n",
    "    def get_average_score(self):\n",
    "        return (self.computer_score + self.science_score + self.sociology_score) / 3\n",
    "\n",
    "    def edit_science_score(self, new_score):\n",
    "        self.science_score = new_score\n",
    "\n",
    "    def edit_sociology_score(self, new_score):\n",
    "        self.sociology_score = new_score\n",
    "\n",
    "# 예시 사용\n",
    "student = FirstGradeStudent(\"홍길동\", 0, 0, 0)\n",
    "print(f\"{student.get_name()}의 초기 평균 점수: {student.get_average_score()}\")\n",
    "\n",
    "# 과목 점수 업데이트\n",
    "new_computer_score = int(input(\"컴퓨터 점수를 입력하세요: \"))\n",
    "student.edit_computer_score(new_computer_score)\n",
    "\n",
    "new_science_score = int(input(\"과학 점수를 입력하세요: \"))\n",
    "student.edit_science_score(new_science_score)\n",
    "\n",
    "new_sociology_score = int(input(\"사회 점수를 입력하세요: \"))\n",
    "student.edit_sociology_score(new_sociology_score)\n",
    "\n",
    "# 업데이트된 평균 점수 출력\n",
    "print(f\"{student.get_name()}의 업데이트된 평균 점수: {student.get_average_score()}\")\n"
   ]
  },
  {
   "cell_type": "code",
   "execution_count": null,
   "metadata": {},
   "outputs": [],
   "source": []
  }
 ],
 "metadata": {
  "kernelspec": {
   "display_name": "Python 3",
   "language": "python",
   "name": "python3"
  },
  "language_info": {
   "codemirror_mode": {
    "name": "ipython",
    "version": 3
   },
   "file_extension": ".py",
   "mimetype": "text/x-python",
   "name": "python",
   "nbconvert_exporter": "python",
   "pygments_lexer": "ipython3",
   "version": "3.10.11"
  }
 },
 "nbformat": 4,
 "nbformat_minor": 2
}
