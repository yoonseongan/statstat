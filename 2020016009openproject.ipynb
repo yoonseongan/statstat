{
 "cells": [
  {
   "cell_type": "code",
   "execution_count": 1,
   "metadata": {},
   "outputs": [],
   "source": [
    "import pandas as pd\n",
    "\n",
    "import requests"
   ]
  },
  {
   "cell_type": "code",
   "execution_count": 2,
   "metadata": {},
   "outputs": [],
   "source": [
    "json_URL = 'https://kosis.kr/openapi/statisticsData.do?method=getList&apiKey=NzE3NTVkNWM5OTU4NjM4NjcwNDBiYTM0MzQwOTFlZjQ=&format=json&jsonVD=Y&userStatsId=ysahn34/101/DT_1J20112/2/1/20231203004217&prdSe=Q&startPrdDe=201701&endPrdDe=202303'\n",
    "a = 'C:/Users/안윤성/Desktop/ysahn/statstat/a.csv'\n",
    "\n",
    "response = requests.get(json_URL)\n"
   ]
  },
  {
   "cell_type": "code",
   "execution_count": 3,
   "metadata": {},
   "outputs": [
    {
     "data": {
      "text/plain": [
       "<Response [200]>"
      ]
     },
     "execution_count": 3,
     "metadata": {},
     "output_type": "execute_result"
    }
   ],
   "source": [
    "response"
   ]
  },
  {
   "cell_type": "code",
   "execution_count": 4,
   "metadata": {},
   "outputs": [],
   "source": [
    "test_data = response.json()"
   ]
  },
  {
   "cell_type": "code",
   "execution_count": 5,
   "metadata": {},
   "outputs": [],
   "source": [
    "df = pd.json_normalize(test_data)"
   ]
  },
  {
   "cell_type": "code",
   "execution_count": 6,
   "metadata": {},
   "outputs": [
    {
     "data": {
      "text/html": [
       "<div>\n",
       "<style scoped>\n",
       "    .dataframe tbody tr th:only-of-type {\n",
       "        vertical-align: middle;\n",
       "    }\n",
       "\n",
       "    .dataframe tbody tr th {\n",
       "        vertical-align: top;\n",
       "    }\n",
       "\n",
       "    .dataframe thead th {\n",
       "        text-align: right;\n",
       "    }\n",
       "</style>\n",
       "<table border=\"1\" class=\"dataframe\">\n",
       "  <thead>\n",
       "    <tr style=\"text-align: right;\">\n",
       "      <th></th>\n",
       "      <th>TBL_NM</th>\n",
       "      <th>PRD_DE</th>\n",
       "      <th>TBL_ID</th>\n",
       "      <th>ITM_NM</th>\n",
       "      <th>ITM_NM_ENG</th>\n",
       "      <th>ITM_ID</th>\n",
       "      <th>UNIT_NM</th>\n",
       "      <th>ORG_ID</th>\n",
       "      <th>UNIT_NM_ENG</th>\n",
       "      <th>C1_OBJ_NM</th>\n",
       "      <th>...</th>\n",
       "      <th>C2_OBJ_NM</th>\n",
       "      <th>C2_OBJ_NM_ENG</th>\n",
       "      <th>DT</th>\n",
       "      <th>PRD_SE</th>\n",
       "      <th>C2</th>\n",
       "      <th>C1</th>\n",
       "      <th>C1_NM</th>\n",
       "      <th>C2_NM</th>\n",
       "      <th>C1_NM_ENG</th>\n",
       "      <th>C2_NM_ENG</th>\n",
       "    </tr>\n",
       "  </thead>\n",
       "  <tbody>\n",
       "    <tr>\n",
       "      <th>0</th>\n",
       "      <td>품목별 소비자물가지수(품목성질별: 2020＝100)</td>\n",
       "      <td>201701</td>\n",
       "      <td>DT_1J20112</td>\n",
       "      <td>소비자물가지수</td>\n",
       "      <td>CPI</td>\n",
       "      <td>T</td>\n",
       "      <td>2020＝100</td>\n",
       "      <td>101</td>\n",
       "      <td>2020＝100</td>\n",
       "      <td>시도별</td>\n",
       "      <td>...</td>\n",
       "      <td>품목별</td>\n",
       "      <td>by Item</td>\n",
       "      <td>93.556</td>\n",
       "      <td>Q</td>\n",
       "      <td>A</td>\n",
       "      <td>T10</td>\n",
       "      <td>전국</td>\n",
       "      <td>농축수산물</td>\n",
       "      <td>whole country</td>\n",
       "      <td>Agricultural ＆ marine products</td>\n",
       "    </tr>\n",
       "    <tr>\n",
       "      <th>1</th>\n",
       "      <td>품목별 소비자물가지수(품목성질별: 2020＝100)</td>\n",
       "      <td>201702</td>\n",
       "      <td>DT_1J20112</td>\n",
       "      <td>소비자물가지수</td>\n",
       "      <td>CPI</td>\n",
       "      <td>T</td>\n",
       "      <td>2020＝100</td>\n",
       "      <td>101</td>\n",
       "      <td>2020＝100</td>\n",
       "      <td>시도별</td>\n",
       "      <td>...</td>\n",
       "      <td>품목별</td>\n",
       "      <td>by Item</td>\n",
       "      <td>90.453</td>\n",
       "      <td>Q</td>\n",
       "      <td>A</td>\n",
       "      <td>T10</td>\n",
       "      <td>전국</td>\n",
       "      <td>농축수산물</td>\n",
       "      <td>whole country</td>\n",
       "      <td>Agricultural ＆ marine products</td>\n",
       "    </tr>\n",
       "    <tr>\n",
       "      <th>2</th>\n",
       "      <td>품목별 소비자물가지수(품목성질별: 2020＝100)</td>\n",
       "      <td>201703</td>\n",
       "      <td>DT_1J20112</td>\n",
       "      <td>소비자물가지수</td>\n",
       "      <td>CPI</td>\n",
       "      <td>T</td>\n",
       "      <td>2020＝100</td>\n",
       "      <td>101</td>\n",
       "      <td>2020＝100</td>\n",
       "      <td>시도별</td>\n",
       "      <td>...</td>\n",
       "      <td>품목별</td>\n",
       "      <td>by Item</td>\n",
       "      <td>93.699</td>\n",
       "      <td>Q</td>\n",
       "      <td>A</td>\n",
       "      <td>T10</td>\n",
       "      <td>전국</td>\n",
       "      <td>농축수산물</td>\n",
       "      <td>whole country</td>\n",
       "      <td>Agricultural ＆ marine products</td>\n",
       "    </tr>\n",
       "    <tr>\n",
       "      <th>3</th>\n",
       "      <td>품목별 소비자물가지수(품목성질별: 2020＝100)</td>\n",
       "      <td>201704</td>\n",
       "      <td>DT_1J20112</td>\n",
       "      <td>소비자물가지수</td>\n",
       "      <td>CPI</td>\n",
       "      <td>T</td>\n",
       "      <td>2020＝100</td>\n",
       "      <td>101</td>\n",
       "      <td>2020＝100</td>\n",
       "      <td>시도별</td>\n",
       "      <td>...</td>\n",
       "      <td>품목별</td>\n",
       "      <td>by Item</td>\n",
       "      <td>90.122</td>\n",
       "      <td>Q</td>\n",
       "      <td>A</td>\n",
       "      <td>T10</td>\n",
       "      <td>전국</td>\n",
       "      <td>농축수산물</td>\n",
       "      <td>whole country</td>\n",
       "      <td>Agricultural ＆ marine products</td>\n",
       "    </tr>\n",
       "    <tr>\n",
       "      <th>4</th>\n",
       "      <td>품목별 소비자물가지수(품목성질별: 2020＝100)</td>\n",
       "      <td>201801</td>\n",
       "      <td>DT_1J20112</td>\n",
       "      <td>소비자물가지수</td>\n",
       "      <td>CPI</td>\n",
       "      <td>T</td>\n",
       "      <td>2020＝100</td>\n",
       "      <td>101</td>\n",
       "      <td>2020＝100</td>\n",
       "      <td>시도별</td>\n",
       "      <td>...</td>\n",
       "      <td>품목별</td>\n",
       "      <td>by Item</td>\n",
       "      <td>94.222</td>\n",
       "      <td>Q</td>\n",
       "      <td>A</td>\n",
       "      <td>T10</td>\n",
       "      <td>전국</td>\n",
       "      <td>농축수산물</td>\n",
       "      <td>whole country</td>\n",
       "      <td>Agricultural ＆ marine products</td>\n",
       "    </tr>\n",
       "  </tbody>\n",
       "</table>\n",
       "<p>5 rows × 21 columns</p>\n",
       "</div>"
      ],
      "text/plain": [
       "                         TBL_NM  PRD_DE      TBL_ID   ITM_NM ITM_NM_ENG  \\\n",
       "0  품목별 소비자물가지수(품목성질별: 2020＝100)  201701  DT_1J20112  소비자물가지수        CPI   \n",
       "1  품목별 소비자물가지수(품목성질별: 2020＝100)  201702  DT_1J20112  소비자물가지수        CPI   \n",
       "2  품목별 소비자물가지수(품목성질별: 2020＝100)  201703  DT_1J20112  소비자물가지수        CPI   \n",
       "3  품목별 소비자물가지수(품목성질별: 2020＝100)  201704  DT_1J20112  소비자물가지수        CPI   \n",
       "4  품목별 소비자물가지수(품목성질별: 2020＝100)  201801  DT_1J20112  소비자물가지수        CPI   \n",
       "\n",
       "  ITM_ID   UNIT_NM ORG_ID UNIT_NM_ENG C1_OBJ_NM  ... C2_OBJ_NM C2_OBJ_NM_ENG  \\\n",
       "0      T  2020＝100    101    2020＝100       시도별  ...       품목별       by Item   \n",
       "1      T  2020＝100    101    2020＝100       시도별  ...       품목별       by Item   \n",
       "2      T  2020＝100    101    2020＝100       시도별  ...       품목별       by Item   \n",
       "3      T  2020＝100    101    2020＝100       시도별  ...       품목별       by Item   \n",
       "4      T  2020＝100    101    2020＝100       시도별  ...       품목별       by Item   \n",
       "\n",
       "       DT PRD_SE C2   C1 C1_NM  C2_NM      C1_NM_ENG  \\\n",
       "0  93.556      Q  A  T10    전국  농축수산물  whole country   \n",
       "1  90.453      Q  A  T10    전국  농축수산물  whole country   \n",
       "2  93.699      Q  A  T10    전국  농축수산물  whole country   \n",
       "3  90.122      Q  A  T10    전국  농축수산물  whole country   \n",
       "4  94.222      Q  A  T10    전국  농축수산물  whole country   \n",
       "\n",
       "                        C2_NM_ENG  \n",
       "0  Agricultural ＆ marine products  \n",
       "1  Agricultural ＆ marine products  \n",
       "2  Agricultural ＆ marine products  \n",
       "3  Agricultural ＆ marine products  \n",
       "4  Agricultural ＆ marine products  \n",
       "\n",
       "[5 rows x 21 columns]"
      ]
     },
     "execution_count": 6,
     "metadata": {},
     "output_type": "execute_result"
    }
   ],
   "source": [
    "df.head()"
   ]
  },
  {
   "cell_type": "code",
   "execution_count": 7,
   "metadata": {},
   "outputs": [],
   "source": [
    "df.to_csv('test1.csv', encoding = 'cp949')"
   ]
  },
  {
   "cell_type": "code",
   "execution_count": 8,
   "metadata": {},
   "outputs": [],
   "source": [
    "df=df[['PRD_DE','DT','C2_NM_ENG']]"
   ]
  },
  {
   "cell_type": "code",
   "execution_count": 9,
   "metadata": {},
   "outputs": [
    {
     "data": {
      "text/html": [
       "<div>\n",
       "<style scoped>\n",
       "    .dataframe tbody tr th:only-of-type {\n",
       "        vertical-align: middle;\n",
       "    }\n",
       "\n",
       "    .dataframe tbody tr th {\n",
       "        vertical-align: top;\n",
       "    }\n",
       "\n",
       "    .dataframe thead th {\n",
       "        text-align: right;\n",
       "    }\n",
       "</style>\n",
       "<table border=\"1\" class=\"dataframe\">\n",
       "  <thead>\n",
       "    <tr style=\"text-align: right;\">\n",
       "      <th></th>\n",
       "      <th>PRD_DE</th>\n",
       "      <th>DT</th>\n",
       "      <th>C2_NM_ENG</th>\n",
       "    </tr>\n",
       "  </thead>\n",
       "  <tbody>\n",
       "    <tr>\n",
       "      <th>0</th>\n",
       "      <td>201701</td>\n",
       "      <td>93.556</td>\n",
       "      <td>Agricultural ＆ marine products</td>\n",
       "    </tr>\n",
       "    <tr>\n",
       "      <th>1</th>\n",
       "      <td>201702</td>\n",
       "      <td>90.453</td>\n",
       "      <td>Agricultural ＆ marine products</td>\n",
       "    </tr>\n",
       "    <tr>\n",
       "      <th>2</th>\n",
       "      <td>201703</td>\n",
       "      <td>93.699</td>\n",
       "      <td>Agricultural ＆ marine products</td>\n",
       "    </tr>\n",
       "    <tr>\n",
       "      <th>3</th>\n",
       "      <td>201704</td>\n",
       "      <td>90.122</td>\n",
       "      <td>Agricultural ＆ marine products</td>\n",
       "    </tr>\n",
       "    <tr>\n",
       "      <th>4</th>\n",
       "      <td>201801</td>\n",
       "      <td>94.222</td>\n",
       "      <td>Agricultural ＆ marine products</td>\n",
       "    </tr>\n",
       "  </tbody>\n",
       "</table>\n",
       "</div>"
      ],
      "text/plain": [
       "   PRD_DE      DT                       C2_NM_ENG\n",
       "0  201701  93.556  Agricultural ＆ marine products\n",
       "1  201702  90.453  Agricultural ＆ marine products\n",
       "2  201703  93.699  Agricultural ＆ marine products\n",
       "3  201704  90.122  Agricultural ＆ marine products\n",
       "4  201801  94.222  Agricultural ＆ marine products"
      ]
     },
     "execution_count": 9,
     "metadata": {},
     "output_type": "execute_result"
    }
   ],
   "source": [
    "df.head()"
   ]
  },
  {
   "cell_type": "code",
   "execution_count": 10,
   "metadata": {},
   "outputs": [],
   "source": [
    "df=df.rename(columns={'PRD_DE':'기간(분기)','DT':'물가지수','C2_NM_ENG':'분야'})"
   ]
  },
  {
   "cell_type": "code",
   "execution_count": 11,
   "metadata": {},
   "outputs": [],
   "source": [
    "df.to_csv('test1.csv', encoding = 'cp949') # csv파일 다시 저장"
   ]
  },
  {
   "cell_type": "code",
   "execution_count": 12,
   "metadata": {},
   "outputs": [],
   "source": [
    "df.set_index('기간(분기)',inplace=True)"
   ]
  },
  {
   "cell_type": "code",
   "execution_count": 13,
   "metadata": {},
   "outputs": [
    {
     "data": {
      "text/html": [
       "<div>\n",
       "<style scoped>\n",
       "    .dataframe tbody tr th:only-of-type {\n",
       "        vertical-align: middle;\n",
       "    }\n",
       "\n",
       "    .dataframe tbody tr th {\n",
       "        vertical-align: top;\n",
       "    }\n",
       "\n",
       "    .dataframe thead th {\n",
       "        text-align: right;\n",
       "    }\n",
       "</style>\n",
       "<table border=\"1\" class=\"dataframe\">\n",
       "  <thead>\n",
       "    <tr style=\"text-align: right;\">\n",
       "      <th></th>\n",
       "      <th>물가지수</th>\n",
       "      <th>분야</th>\n",
       "    </tr>\n",
       "    <tr>\n",
       "      <th>기간(분기)</th>\n",
       "      <th></th>\n",
       "      <th></th>\n",
       "    </tr>\n",
       "  </thead>\n",
       "  <tbody>\n",
       "    <tr>\n",
       "      <th>201701</th>\n",
       "      <td>93.556</td>\n",
       "      <td>Agricultural ＆ marine products</td>\n",
       "    </tr>\n",
       "    <tr>\n",
       "      <th>201702</th>\n",
       "      <td>90.453</td>\n",
       "      <td>Agricultural ＆ marine products</td>\n",
       "    </tr>\n",
       "    <tr>\n",
       "      <th>201703</th>\n",
       "      <td>93.699</td>\n",
       "      <td>Agricultural ＆ marine products</td>\n",
       "    </tr>\n",
       "    <tr>\n",
       "      <th>201704</th>\n",
       "      <td>90.122</td>\n",
       "      <td>Agricultural ＆ marine products</td>\n",
       "    </tr>\n",
       "    <tr>\n",
       "      <th>201801</th>\n",
       "      <td>94.222</td>\n",
       "      <td>Agricultural ＆ marine products</td>\n",
       "    </tr>\n",
       "  </tbody>\n",
       "</table>\n",
       "</div>"
      ],
      "text/plain": [
       "          물가지수                              분야\n",
       "기간(분기)                                        \n",
       "201701  93.556  Agricultural ＆ marine products\n",
       "201702  90.453  Agricultural ＆ marine products\n",
       "201703  93.699  Agricultural ＆ marine products\n",
       "201704  90.122  Agricultural ＆ marine products\n",
       "201801  94.222  Agricultural ＆ marine products"
      ]
     },
     "execution_count": 13,
     "metadata": {},
     "output_type": "execute_result"
    }
   ],
   "source": [
    "df.head()"
   ]
  },
  {
   "cell_type": "code",
   "execution_count": 14,
   "metadata": {},
   "outputs": [
    {
     "name": "stdout",
     "output_type": "stream",
     "text": [
      "<class 'pandas.core.frame.DataFrame'>\n",
      "Index: 108 entries, 201701 to 202303\n",
      "Data columns (total 2 columns):\n",
      " #   Column  Non-Null Count  Dtype \n",
      "---  ------  --------------  ----- \n",
      " 0   물가지수    108 non-null    object\n",
      " 1   분야      108 non-null    object\n",
      "dtypes: object(2)\n",
      "memory usage: 2.5+ KB\n",
      "None\n"
     ]
    }
   ],
   "source": [
    "print(df.info())"
   ]
  },
  {
   "cell_type": "code",
   "execution_count": 15,
   "metadata": {},
   "outputs": [
    {
     "name": "stdout",
     "output_type": "stream",
     "text": [
      "['Agricultural ＆ marine products' 'Industrial products'\n",
      " 'Electricity and Gas and Water' 'Personal services']\n"
     ]
    }
   ],
   "source": [
    "# '분야(영어)' 열의 고유한 값 찾기\n",
    "a = df['분야'].unique()\n",
    "\n",
    "print(a)"
   ]
  },
  {
   "cell_type": "code",
   "execution_count": 16,
   "metadata": {},
   "outputs": [
    {
     "name": "stdout",
     "output_type": "stream",
     "text": [
      "<class 'pandas.core.frame.DataFrame'>\n",
      "Index: 108 entries, 201701 to 202303\n",
      "Data columns (total 2 columns):\n",
      " #   Column  Non-Null Count  Dtype  \n",
      "---  ------  --------------  -----  \n",
      " 0   물가지수    108 non-null    float64\n",
      " 1   분야      108 non-null    object \n",
      "dtypes: float64(1), object(1)\n",
      "memory usage: 2.5+ KB\n",
      "None\n"
     ]
    }
   ],
   "source": [
    "# '물가지수' 열을 숫자로 변환\n",
    "df['물가지수'] = pd.to_numeric(df['물가지수'], errors='coerce')\n",
    "\n",
    "# 변환 후 데이터프레임 정보 확인\n",
    "print(df.info())"
   ]
  },
  {
   "cell_type": "code",
   "execution_count": 17,
   "metadata": {},
   "outputs": [
    {
     "data": {
      "text/html": [
       "<div>\n",
       "<style scoped>\n",
       "    .dataframe tbody tr th:only-of-type {\n",
       "        vertical-align: middle;\n",
       "    }\n",
       "\n",
       "    .dataframe tbody tr th {\n",
       "        vertical-align: top;\n",
       "    }\n",
       "\n",
       "    .dataframe thead th {\n",
       "        text-align: right;\n",
       "    }\n",
       "</style>\n",
       "<table border=\"1\" class=\"dataframe\">\n",
       "  <thead>\n",
       "    <tr style=\"text-align: right;\">\n",
       "      <th></th>\n",
       "      <th>물가지수</th>\n",
       "    </tr>\n",
       "    <tr>\n",
       "      <th>분야</th>\n",
       "      <th></th>\n",
       "    </tr>\n",
       "  </thead>\n",
       "  <tbody>\n",
       "    <tr>\n",
       "      <th>Agricultural ＆ marine products</th>\n",
       "      <td>102.015222</td>\n",
       "    </tr>\n",
       "    <tr>\n",
       "      <th>Electricity and Gas and Water</th>\n",
       "      <td>105.283000</td>\n",
       "    </tr>\n",
       "    <tr>\n",
       "      <th>Industrial products</th>\n",
       "      <td>102.986519</td>\n",
       "    </tr>\n",
       "    <tr>\n",
       "      <th>Personal services</th>\n",
       "      <td>101.623481</td>\n",
       "    </tr>\n",
       "  </tbody>\n",
       "</table>\n",
       "</div>"
      ],
      "text/plain": [
       "                                      물가지수\n",
       "분야                                        \n",
       "Agricultural ＆ marine products  102.015222\n",
       "Electricity and Gas and Water   105.283000\n",
       "Industrial products             102.986519\n",
       "Personal services               101.623481"
      ]
     },
     "execution_count": 17,
     "metadata": {},
     "output_type": "execute_result"
    }
   ],
   "source": [
    "df.groupby('분야').mean()"
   ]
  },
  {
   "cell_type": "code",
   "execution_count": 18,
   "metadata": {},
   "outputs": [
    {
     "data": {
      "text/html": [
       "<div>\n",
       "<style scoped>\n",
       "    .dataframe tbody tr th:only-of-type {\n",
       "        vertical-align: middle;\n",
       "    }\n",
       "\n",
       "    .dataframe tbody tr th {\n",
       "        vertical-align: top;\n",
       "    }\n",
       "\n",
       "    .dataframe thead th {\n",
       "        text-align: right;\n",
       "    }\n",
       "</style>\n",
       "<table border=\"1\" class=\"dataframe\">\n",
       "  <thead>\n",
       "    <tr style=\"text-align: right;\">\n",
       "      <th></th>\n",
       "      <th>물가지수</th>\n",
       "    </tr>\n",
       "    <tr>\n",
       "      <th>분야</th>\n",
       "      <th></th>\n",
       "    </tr>\n",
       "  </thead>\n",
       "  <tbody>\n",
       "    <tr>\n",
       "      <th>Agricultural ＆ marine products</th>\n",
       "      <td>27</td>\n",
       "    </tr>\n",
       "    <tr>\n",
       "      <th>Electricity and Gas and Water</th>\n",
       "      <td>27</td>\n",
       "    </tr>\n",
       "    <tr>\n",
       "      <th>Industrial products</th>\n",
       "      <td>27</td>\n",
       "    </tr>\n",
       "    <tr>\n",
       "      <th>Personal services</th>\n",
       "      <td>27</td>\n",
       "    </tr>\n",
       "  </tbody>\n",
       "</table>\n",
       "</div>"
      ],
      "text/plain": [
       "                                물가지수\n",
       "분야                                  \n",
       "Agricultural ＆ marine products    27\n",
       "Electricity and Gas and Water     27\n",
       "Industrial products               27\n",
       "Personal services                 27"
      ]
     },
     "execution_count": 18,
     "metadata": {},
     "output_type": "execute_result"
    }
   ],
   "source": [
    "df.groupby('분야').count()"
   ]
  },
  {
   "cell_type": "code",
   "execution_count": 19,
   "metadata": {},
   "outputs": [
    {
     "data": {
      "text/html": [
       "<div>\n",
       "<style scoped>\n",
       "    .dataframe tbody tr th:only-of-type {\n",
       "        vertical-align: middle;\n",
       "    }\n",
       "\n",
       "    .dataframe tbody tr th {\n",
       "        vertical-align: top;\n",
       "    }\n",
       "\n",
       "    .dataframe thead th {\n",
       "        text-align: right;\n",
       "    }\n",
       "</style>\n",
       "<table border=\"1\" class=\"dataframe\">\n",
       "  <thead>\n",
       "    <tr style=\"text-align: right;\">\n",
       "      <th></th>\n",
       "      <th>물가지수</th>\n",
       "    </tr>\n",
       "    <tr>\n",
       "      <th>분야</th>\n",
       "      <th></th>\n",
       "    </tr>\n",
       "  </thead>\n",
       "  <tbody>\n",
       "    <tr>\n",
       "      <th>Agricultural ＆ marine products</th>\n",
       "      <td>119.06</td>\n",
       "    </tr>\n",
       "    <tr>\n",
       "      <th>Electricity and Gas and Water</th>\n",
       "      <td>132.65</td>\n",
       "    </tr>\n",
       "    <tr>\n",
       "      <th>Industrial products</th>\n",
       "      <td>112.53</td>\n",
       "    </tr>\n",
       "    <tr>\n",
       "      <th>Personal services</th>\n",
       "      <td>114.12</td>\n",
       "    </tr>\n",
       "  </tbody>\n",
       "</table>\n",
       "</div>"
      ],
      "text/plain": [
       "                                  물가지수\n",
       "분야                                    \n",
       "Agricultural ＆ marine products  119.06\n",
       "Electricity and Gas and Water   132.65\n",
       "Industrial products             112.53\n",
       "Personal services               114.12"
      ]
     },
     "execution_count": 19,
     "metadata": {},
     "output_type": "execute_result"
    }
   ],
   "source": [
    "df.groupby('분야').max()"
   ]
  },
  {
   "cell_type": "code",
   "execution_count": 20,
   "metadata": {},
   "outputs": [
    {
     "data": {
      "text/html": [
       "<div>\n",
       "<style scoped>\n",
       "    .dataframe tbody tr th:only-of-type {\n",
       "        vertical-align: middle;\n",
       "    }\n",
       "\n",
       "    .dataframe tbody tr th {\n",
       "        vertical-align: top;\n",
       "    }\n",
       "\n",
       "    .dataframe thead tr th {\n",
       "        text-align: left;\n",
       "    }\n",
       "\n",
       "    .dataframe thead tr:last-of-type th {\n",
       "        text-align: right;\n",
       "    }\n",
       "</style>\n",
       "<table border=\"1\" class=\"dataframe\">\n",
       "  <thead>\n",
       "    <tr>\n",
       "      <th></th>\n",
       "      <th colspan=\"8\" halign=\"left\">물가지수</th>\n",
       "    </tr>\n",
       "    <tr>\n",
       "      <th></th>\n",
       "      <th>count</th>\n",
       "      <th>mean</th>\n",
       "      <th>std</th>\n",
       "      <th>min</th>\n",
       "      <th>25%</th>\n",
       "      <th>50%</th>\n",
       "      <th>75%</th>\n",
       "      <th>max</th>\n",
       "    </tr>\n",
       "    <tr>\n",
       "      <th>분야</th>\n",
       "      <th></th>\n",
       "      <th></th>\n",
       "      <th></th>\n",
       "      <th></th>\n",
       "      <th></th>\n",
       "      <th></th>\n",
       "      <th></th>\n",
       "      <th></th>\n",
       "    </tr>\n",
       "  </thead>\n",
       "  <tbody>\n",
       "    <tr>\n",
       "      <th>Agricultural ＆ marine products</th>\n",
       "      <td>27.0</td>\n",
       "      <td>102.015222</td>\n",
       "      <td>9.092551</td>\n",
       "      <td>90.122</td>\n",
       "      <td>93.9225</td>\n",
       "      <td>98.270</td>\n",
       "      <td>110.450</td>\n",
       "      <td>119.06</td>\n",
       "    </tr>\n",
       "    <tr>\n",
       "      <th>Electricity and Gas and Water</th>\n",
       "      <td>27.0</td>\n",
       "      <td>105.283000</td>\n",
       "      <td>10.813171</td>\n",
       "      <td>94.250</td>\n",
       "      <td>99.9200</td>\n",
       "      <td>101.855</td>\n",
       "      <td>103.767</td>\n",
       "      <td>132.65</td>\n",
       "    </tr>\n",
       "    <tr>\n",
       "      <th>Industrial products</th>\n",
       "      <td>27.0</td>\n",
       "      <td>102.986519</td>\n",
       "      <td>4.687489</td>\n",
       "      <td>98.859</td>\n",
       "      <td>99.8100</td>\n",
       "      <td>100.617</td>\n",
       "      <td>105.225</td>\n",
       "      <td>112.53</td>\n",
       "    </tr>\n",
       "    <tr>\n",
       "      <th>Personal services</th>\n",
       "      <td>27.0</td>\n",
       "      <td>101.623481</td>\n",
       "      <td>5.919660</td>\n",
       "      <td>94.001</td>\n",
       "      <td>97.4835</td>\n",
       "      <td>99.720</td>\n",
       "      <td>104.605</td>\n",
       "      <td>114.12</td>\n",
       "    </tr>\n",
       "  </tbody>\n",
       "</table>\n",
       "</div>"
      ],
      "text/plain": [
       "                                물가지수                                          \\\n",
       "                               count        mean        std     min      25%   \n",
       "분야                                                                             \n",
       "Agricultural ＆ marine products  27.0  102.015222   9.092551  90.122  93.9225   \n",
       "Electricity and Gas and Water   27.0  105.283000  10.813171  94.250  99.9200   \n",
       "Industrial products             27.0  102.986519   4.687489  98.859  99.8100   \n",
       "Personal services               27.0  101.623481   5.919660  94.001  97.4835   \n",
       "\n",
       "                                                          \n",
       "                                    50%      75%     max  \n",
       "분야                                                        \n",
       "Agricultural ＆ marine products   98.270  110.450  119.06  \n",
       "Electricity and Gas and Water   101.855  103.767  132.65  \n",
       "Industrial products             100.617  105.225  112.53  \n",
       "Personal services                99.720  104.605  114.12  "
      ]
     },
     "execution_count": 20,
     "metadata": {},
     "output_type": "execute_result"
    }
   ],
   "source": [
    "df.groupby('분야').describe()"
   ]
  },
  {
   "cell_type": "code",
   "execution_count": 21,
   "metadata": {},
   "outputs": [],
   "source": [
    "piv_table_dict = {}"
   ]
  },
  {
   "cell_type": "code",
   "execution_count": 22,
   "metadata": {},
   "outputs": [],
   "source": [
    "a=df[['물가지수']]"
   ]
  },
  {
   "cell_type": "code",
   "execution_count": 23,
   "metadata": {},
   "outputs": [
    {
     "name": "stdout",
     "output_type": "stream",
     "text": [
      "           물가지수\n",
      "기간(분기)         \n",
      "201701   93.556\n",
      "201702   90.453\n",
      "201703   93.699\n",
      "201704   90.122\n",
      "201801   94.222\n",
      "...         ...\n",
      "202203  109.340\n",
      "202204  109.990\n",
      "202301  111.780\n",
      "202302  113.460\n",
      "202303  114.120\n",
      "\n",
      "[108 rows x 1 columns]\n"
     ]
    }
   ],
   "source": [
    "print(a)"
   ]
  },
  {
   "cell_type": "code",
   "execution_count": 24,
   "metadata": {},
   "outputs": [],
   "source": [
    "b=a[['물가지수']]"
   ]
  },
  {
   "cell_type": "code",
   "execution_count": 25,
   "metadata": {},
   "outputs": [
    {
     "name": "stdout",
     "output_type": "stream",
     "text": [
      "           물가지수\n",
      "기간(분기)         \n",
      "201701   93.556\n",
      "201702   90.453\n",
      "201703   93.699\n",
      "201704   90.122\n",
      "201801   94.222\n",
      "...         ...\n",
      "202203  109.340\n",
      "202204  109.990\n",
      "202301  111.780\n",
      "202302  113.460\n",
      "202303  114.120\n",
      "\n",
      "[108 rows x 1 columns]\n"
     ]
    }
   ],
   "source": [
    "print(b)"
   ]
  },
  {
   "cell_type": "code",
   "execution_count": 26,
   "metadata": {},
   "outputs": [],
   "source": [
    "ndf=df.pivot(columns='분야', values='물가지수')"
   ]
  },
  {
   "cell_type": "code",
   "execution_count": 27,
   "metadata": {},
   "outputs": [
    {
     "data": {
      "text/html": [
       "<div>\n",
       "<style scoped>\n",
       "    .dataframe tbody tr th:only-of-type {\n",
       "        vertical-align: middle;\n",
       "    }\n",
       "\n",
       "    .dataframe tbody tr th {\n",
       "        vertical-align: top;\n",
       "    }\n",
       "\n",
       "    .dataframe thead th {\n",
       "        text-align: right;\n",
       "    }\n",
       "</style>\n",
       "<table border=\"1\" class=\"dataframe\">\n",
       "  <thead>\n",
       "    <tr style=\"text-align: right;\">\n",
       "      <th>분야</th>\n",
       "      <th>Agricultural ＆ marine products</th>\n",
       "      <th>Electricity and Gas and Water</th>\n",
       "      <th>Industrial products</th>\n",
       "      <th>Personal services</th>\n",
       "    </tr>\n",
       "    <tr>\n",
       "      <th>기간(분기)</th>\n",
       "      <th></th>\n",
       "      <th></th>\n",
       "      <th></th>\n",
       "      <th></th>\n",
       "    </tr>\n",
       "  </thead>\n",
       "  <tbody>\n",
       "    <tr>\n",
       "      <th>201701</th>\n",
       "      <td>93.556</td>\n",
       "      <td>102.430</td>\n",
       "      <td>99.160</td>\n",
       "      <td>94.001</td>\n",
       "    </tr>\n",
       "    <tr>\n",
       "      <th>201702</th>\n",
       "      <td>90.453</td>\n",
       "      <td>103.725</td>\n",
       "      <td>98.977</td>\n",
       "      <td>94.445</td>\n",
       "    </tr>\n",
       "    <tr>\n",
       "      <th>201703</th>\n",
       "      <td>93.699</td>\n",
       "      <td>103.809</td>\n",
       "      <td>98.859</td>\n",
       "      <td>95.056</td>\n",
       "    </tr>\n",
       "    <tr>\n",
       "      <th>201704</th>\n",
       "      <td>90.122</td>\n",
       "      <td>101.557</td>\n",
       "      <td>99.514</td>\n",
       "      <td>95.020</td>\n",
       "    </tr>\n",
       "    <tr>\n",
       "      <th>201801</th>\n",
       "      <td>94.222</td>\n",
       "      <td>100.530</td>\n",
       "      <td>99.877</td>\n",
       "      <td>96.068</td>\n",
       "    </tr>\n",
       "    <tr>\n",
       "      <th>201802</th>\n",
       "      <td>92.302</td>\n",
       "      <td>100.576</td>\n",
       "      <td>100.431</td>\n",
       "      <td>97.042</td>\n",
       "    </tr>\n",
       "    <tr>\n",
       "      <th>201803</th>\n",
       "      <td>98.270</td>\n",
       "      <td>96.572</td>\n",
       "      <td>100.614</td>\n",
       "      <td>97.479</td>\n",
       "    </tr>\n",
       "    <tr>\n",
       "      <th>201804</th>\n",
       "      <td>96.516</td>\n",
       "      <td>101.886</td>\n",
       "      <td>100.617</td>\n",
       "      <td>97.488</td>\n",
       "    </tr>\n",
       "    <tr>\n",
       "      <th>201901</th>\n",
       "      <td>94.443</td>\n",
       "      <td>101.855</td>\n",
       "      <td>99.177</td>\n",
       "      <td>98.308</td>\n",
       "    </tr>\n",
       "    <tr>\n",
       "      <th>201902</th>\n",
       "      <td>93.413</td>\n",
       "      <td>101.851</td>\n",
       "      <td>100.473</td>\n",
       "      <td>98.686</td>\n",
       "    </tr>\n",
       "    <tr>\n",
       "      <th>201903</th>\n",
       "      <td>92.929</td>\n",
       "      <td>98.426</td>\n",
       "      <td>100.440</td>\n",
       "      <td>99.171</td>\n",
       "    </tr>\n",
       "    <tr>\n",
       "      <th>201904</th>\n",
       "      <td>94.146</td>\n",
       "      <td>103.414</td>\n",
       "      <td>100.807</td>\n",
       "      <td>99.090</td>\n",
       "    </tr>\n",
       "    <tr>\n",
       "      <th>202001</th>\n",
       "      <td>95.640</td>\n",
       "      <td>103.330</td>\n",
       "      <td>101.080</td>\n",
       "      <td>99.540</td>\n",
       "    </tr>\n",
       "    <tr>\n",
       "      <th>202002</th>\n",
       "      <td>96.720</td>\n",
       "      <td>103.100</td>\n",
       "      <td>99.300</td>\n",
       "      <td>99.720</td>\n",
       "    </tr>\n",
       "    <tr>\n",
       "      <th>202003</th>\n",
       "      <td>103.480</td>\n",
       "      <td>94.250</td>\n",
       "      <td>99.860</td>\n",
       "      <td>100.270</td>\n",
       "    </tr>\n",
       "    <tr>\n",
       "      <th>202004</th>\n",
       "      <td>104.160</td>\n",
       "      <td>99.310</td>\n",
       "      <td>99.760</td>\n",
       "      <td>100.460</td>\n",
       "    </tr>\n",
       "    <tr>\n",
       "      <th>202101</th>\n",
       "      <td>108.360</td>\n",
       "      <td>98.200</td>\n",
       "      <td>100.700</td>\n",
       "      <td>101.390</td>\n",
       "    </tr>\n",
       "    <tr>\n",
       "      <th>202102</th>\n",
       "      <td>107.660</td>\n",
       "      <td>98.200</td>\n",
       "      <td>101.530</td>\n",
       "      <td>102.220</td>\n",
       "    </tr>\n",
       "    <tr>\n",
       "      <th>202103</th>\n",
       "      <td>109.290</td>\n",
       "      <td>94.530</td>\n",
       "      <td>102.630</td>\n",
       "      <td>103.020</td>\n",
       "    </tr>\n",
       "    <tr>\n",
       "      <th>202104</th>\n",
       "      <td>109.590</td>\n",
       "      <td>100.680</td>\n",
       "      <td>104.310</td>\n",
       "      <td>103.550</td>\n",
       "    </tr>\n",
       "    <tr>\n",
       "      <th>202201</th>\n",
       "      <td>111.310</td>\n",
       "      <td>101.080</td>\n",
       "      <td>106.140</td>\n",
       "      <td>105.660</td>\n",
       "    </tr>\n",
       "    <tr>\n",
       "      <th>202202</th>\n",
       "      <td>111.560</td>\n",
       "      <td>106.720</td>\n",
       "      <td>110.120</td>\n",
       "      <td>107.460</td>\n",
       "    </tr>\n",
       "    <tr>\n",
       "      <th>202203</th>\n",
       "      <td>116.710</td>\n",
       "      <td>109.000</td>\n",
       "      <td>110.360</td>\n",
       "      <td>109.340</td>\n",
       "    </tr>\n",
       "    <tr>\n",
       "      <th>202204</th>\n",
       "      <td>111.700</td>\n",
       "      <td>123.970</td>\n",
       "      <td>110.680</td>\n",
       "      <td>109.990</td>\n",
       "    </tr>\n",
       "    <tr>\n",
       "      <th>202301</th>\n",
       "      <td>113.240</td>\n",
       "      <td>129.760</td>\n",
       "      <td>111.090</td>\n",
       "      <td>111.780</td>\n",
       "    </tr>\n",
       "    <tr>\n",
       "      <th>202302</th>\n",
       "      <td>111.860</td>\n",
       "      <td>132.650</td>\n",
       "      <td>111.600</td>\n",
       "      <td>113.460</td>\n",
       "    </tr>\n",
       "    <tr>\n",
       "      <th>202303</th>\n",
       "      <td>119.060</td>\n",
       "      <td>131.230</td>\n",
       "      <td>112.530</td>\n",
       "      <td>114.120</td>\n",
       "    </tr>\n",
       "  </tbody>\n",
       "</table>\n",
       "</div>"
      ],
      "text/plain": [
       "분야      Agricultural ＆ marine products  Electricity and Gas and Water  \\\n",
       "기간(분기)                                                                  \n",
       "201701                          93.556                        102.430   \n",
       "201702                          90.453                        103.725   \n",
       "201703                          93.699                        103.809   \n",
       "201704                          90.122                        101.557   \n",
       "201801                          94.222                        100.530   \n",
       "201802                          92.302                        100.576   \n",
       "201803                          98.270                         96.572   \n",
       "201804                          96.516                        101.886   \n",
       "201901                          94.443                        101.855   \n",
       "201902                          93.413                        101.851   \n",
       "201903                          92.929                         98.426   \n",
       "201904                          94.146                        103.414   \n",
       "202001                          95.640                        103.330   \n",
       "202002                          96.720                        103.100   \n",
       "202003                         103.480                         94.250   \n",
       "202004                         104.160                         99.310   \n",
       "202101                         108.360                         98.200   \n",
       "202102                         107.660                         98.200   \n",
       "202103                         109.290                         94.530   \n",
       "202104                         109.590                        100.680   \n",
       "202201                         111.310                        101.080   \n",
       "202202                         111.560                        106.720   \n",
       "202203                         116.710                        109.000   \n",
       "202204                         111.700                        123.970   \n",
       "202301                         113.240                        129.760   \n",
       "202302                         111.860                        132.650   \n",
       "202303                         119.060                        131.230   \n",
       "\n",
       "분야      Industrial products  Personal services  \n",
       "기간(분기)                                          \n",
       "201701               99.160             94.001  \n",
       "201702               98.977             94.445  \n",
       "201703               98.859             95.056  \n",
       "201704               99.514             95.020  \n",
       "201801               99.877             96.068  \n",
       "201802              100.431             97.042  \n",
       "201803              100.614             97.479  \n",
       "201804              100.617             97.488  \n",
       "201901               99.177             98.308  \n",
       "201902              100.473             98.686  \n",
       "201903              100.440             99.171  \n",
       "201904              100.807             99.090  \n",
       "202001              101.080             99.540  \n",
       "202002               99.300             99.720  \n",
       "202003               99.860            100.270  \n",
       "202004               99.760            100.460  \n",
       "202101              100.700            101.390  \n",
       "202102              101.530            102.220  \n",
       "202103              102.630            103.020  \n",
       "202104              104.310            103.550  \n",
       "202201              106.140            105.660  \n",
       "202202              110.120            107.460  \n",
       "202203              110.360            109.340  \n",
       "202204              110.680            109.990  \n",
       "202301              111.090            111.780  \n",
       "202302              111.600            113.460  \n",
       "202303              112.530            114.120  "
      ]
     },
     "execution_count": 27,
     "metadata": {},
     "output_type": "execute_result"
    }
   ],
   "source": [
    "ndf"
   ]
  },
  {
   "cell_type": "code",
   "execution_count": 28,
   "metadata": {},
   "outputs": [
    {
     "name": "stdout",
     "output_type": "stream",
     "text": [
      "<class 'pandas.core.frame.DataFrame'>\n",
      "Index: 27 entries, 201701 to 202303\n",
      "Data columns (total 4 columns):\n",
      " #   Column                          Non-Null Count  Dtype  \n",
      "---  ------                          --------------  -----  \n",
      " 0   Agricultural ＆ marine products  27 non-null     float64\n",
      " 1   Electricity and Gas and Water   27 non-null     float64\n",
      " 2   Industrial products             27 non-null     float64\n",
      " 3   Personal services               27 non-null     float64\n",
      "dtypes: float64(4)\n",
      "memory usage: 1.1+ KB\n",
      "None\n"
     ]
    }
   ],
   "source": [
    "print(ndf.info())"
   ]
  },
  {
   "cell_type": "code",
   "execution_count": 29,
   "metadata": {},
   "outputs": [
    {
     "name": "stdout",
     "output_type": "stream",
     "text": [
      "분야     Agricultural ＆ marine products  Electricity and Gas and Water  \\\n",
      "count                       27.000000                      27.000000   \n",
      "mean                       102.015222                     105.283000   \n",
      "std                          9.092551                      10.813171   \n",
      "min                         90.122000                      94.250000   \n",
      "25%                         93.922500                      99.920000   \n",
      "50%                         98.270000                     101.855000   \n",
      "75%                        110.450000                     103.767000   \n",
      "max                        119.060000                     132.650000   \n",
      "\n",
      "분야     Industrial products  Personal services  \n",
      "count            27.000000          27.000000  \n",
      "mean            102.986519         101.623481  \n",
      "std               4.687489           5.919660  \n",
      "min              98.859000          94.001000  \n",
      "25%              99.810000          97.483500  \n",
      "50%             100.617000          99.720000  \n",
      "75%             105.225000         104.605000  \n",
      "max             112.530000         114.120000  \n"
     ]
    }
   ],
   "source": [
    "print(ndf.describe())"
   ]
  },
  {
   "cell_type": "code",
   "execution_count": 30,
   "metadata": {},
   "outputs": [],
   "source": [
    "columns_to_convert = ['Agricultural ＆ marine products', 'Electricity and Gas and Water', 'Industrial products', 'Personal services']\n"
   ]
  },
  {
   "cell_type": "code",
   "execution_count": 31,
   "metadata": {},
   "outputs": [],
   "source": [
    "ndf[columns_to_convert] = ndf[columns_to_convert].apply(pd.to_numeric, errors='coerce')"
   ]
  },
  {
   "cell_type": "code",
   "execution_count": 32,
   "metadata": {},
   "outputs": [
    {
     "name": "stdout",
     "output_type": "stream",
     "text": [
      "<class 'pandas.core.frame.DataFrame'>\n",
      "Index: 27 entries, 201701 to 202303\n",
      "Data columns (total 4 columns):\n",
      " #   Column                          Non-Null Count  Dtype  \n",
      "---  ------                          --------------  -----  \n",
      " 0   Agricultural ＆ marine products  27 non-null     float64\n",
      " 1   Electricity and Gas and Water   27 non-null     float64\n",
      " 2   Industrial products             27 non-null     float64\n",
      " 3   Personal services               27 non-null     float64\n",
      "dtypes: float64(4)\n",
      "memory usage: 1.1+ KB\n",
      "None\n"
     ]
    }
   ],
   "source": [
    "print(ndf.info())"
   ]
  },
  {
   "cell_type": "markdown",
   "metadata": {},
   "source": []
  },
  {
   "cell_type": "code",
   "execution_count": 33,
   "metadata": {},
   "outputs": [
    {
     "name": "stdout",
     "output_type": "stream",
     "text": [
      "분야     Agricultural ＆ marine products  Electricity and Gas and Water  \\\n",
      "count                       27.000000                      27.000000   \n",
      "mean                       102.015222                     105.283000   \n",
      "std                          9.092551                      10.813171   \n",
      "min                         90.122000                      94.250000   \n",
      "25%                         93.922500                      99.920000   \n",
      "50%                         98.270000                     101.855000   \n",
      "75%                        110.450000                     103.767000   \n",
      "max                        119.060000                     132.650000   \n",
      "\n",
      "분야     Industrial products  Personal services  \n",
      "count            27.000000          27.000000  \n",
      "mean            102.986519         101.623481  \n",
      "std               4.687489           5.919660  \n",
      "min              98.859000          94.001000  \n",
      "25%              99.810000          97.483500  \n",
      "50%             100.617000          99.720000  \n",
      "75%             105.225000         104.605000  \n",
      "max             112.530000         114.120000  \n"
     ]
    }
   ],
   "source": [
    "print(ndf.describe())"
   ]
  },
  {
   "cell_type": "code",
   "execution_count": 34,
   "metadata": {},
   "outputs": [
    {
     "data": {
      "text/plain": [
       "<Axes: xlabel='기간(분기)'>"
      ]
     },
     "execution_count": 34,
     "metadata": {},
     "output_type": "execute_result"
    },
    {
     "name": "stderr",
     "output_type": "stream",
     "text": [
      "C:\\Users\\CBNU\\AppData\\Roaming\\Python\\Python312\\site-packages\\IPython\\core\\events.py:82: UserWarning: Glyph 44592 (\\N{HANGUL SYLLABLE GI}) missing from current font.\n",
      "  func(*args, **kwargs)\n",
      "C:\\Users\\CBNU\\AppData\\Roaming\\Python\\Python312\\site-packages\\IPython\\core\\events.py:82: UserWarning: Glyph 44036 (\\N{HANGUL SYLLABLE GAN}) missing from current font.\n",
      "  func(*args, **kwargs)\n",
      "C:\\Users\\CBNU\\AppData\\Roaming\\Python\\Python312\\site-packages\\IPython\\core\\events.py:82: UserWarning: Glyph 48516 (\\N{HANGUL SYLLABLE BUN}) missing from current font.\n",
      "  func(*args, **kwargs)\n",
      "C:\\Users\\CBNU\\AppData\\Roaming\\Python\\Python312\\site-packages\\IPython\\core\\events.py:82: UserWarning: Glyph 50556 (\\N{HANGUL SYLLABLE YA}) missing from current font.\n",
      "  func(*args, **kwargs)\n",
      "C:\\Users\\CBNU\\AppData\\Roaming\\Python\\Python312\\site-packages\\IPython\\core\\events.py:82: UserWarning: Glyph 65286 (\\N{FULLWIDTH AMPERSAND}) missing from current font.\n",
      "  func(*args, **kwargs)\n",
      "C:\\Users\\CBNU\\AppData\\Roaming\\Python\\Python312\\site-packages\\IPython\\core\\pylabtools.py:152: UserWarning: Glyph 44592 (\\N{HANGUL SYLLABLE GI}) missing from current font.\n",
      "  fig.canvas.print_figure(bytes_io, **kw)\n",
      "C:\\Users\\CBNU\\AppData\\Roaming\\Python\\Python312\\site-packages\\IPython\\core\\pylabtools.py:152: UserWarning: Glyph 44036 (\\N{HANGUL SYLLABLE GAN}) missing from current font.\n",
      "  fig.canvas.print_figure(bytes_io, **kw)\n",
      "C:\\Users\\CBNU\\AppData\\Roaming\\Python\\Python312\\site-packages\\IPython\\core\\pylabtools.py:152: UserWarning: Glyph 48516 (\\N{HANGUL SYLLABLE BUN}) missing from current font.\n",
      "  fig.canvas.print_figure(bytes_io, **kw)\n",
      "C:\\Users\\CBNU\\AppData\\Roaming\\Python\\Python312\\site-packages\\IPython\\core\\pylabtools.py:152: UserWarning: Glyph 50556 (\\N{HANGUL SYLLABLE YA}) missing from current font.\n",
      "  fig.canvas.print_figure(bytes_io, **kw)\n",
      "C:\\Users\\CBNU\\AppData\\Roaming\\Python\\Python312\\site-packages\\IPython\\core\\pylabtools.py:152: UserWarning: Glyph 65286 (\\N{FULLWIDTH AMPERSAND}) missing from current font.\n",
      "  fig.canvas.print_figure(bytes_io, **kw)\n"
     ]
    },
    {
     "data": {
      "image/png": "[encoded data removed]",
      "text/plain": [
       "<Figure size 640x480 with 1 Axes>"
      ]
     },
     "metadata": {},
     "output_type": "display_data"
    }
   ],
   "source": [
    "ndf.plot()"
   ]
  },
  {
   "cell_type": "code",
   "execution_count": 35,
   "metadata": {},
   "outputs": [],
   "source": [
    "import numpy as np\n",
    "import matplotlib.pyplot as plt\n",
    "import seaborn as sns"
   ]
  },
  {
   "cell_type": "code",
   "execution_count": 36,
   "metadata": {},
   "outputs": [],
   "source": [
    "x = ndf[['Agricultural ＆ marine products','Electricity and Gas and Water','Industrial products']] #독립변수\n",
    "y=ndf['Personal services'] #종속변수"
   ]
  },
  {
   "cell_type": "code",
   "execution_count": 37,
   "metadata": {},
   "outputs": [],
   "source": [
    "from sklearn.model_selection import train_test_split\n",
    "x_train, x_test, y_train, y_test = train_test_split(x,y,test_size=0.3,random_state=10)"
   ]
  },
  {
   "cell_type": "code",
   "execution_count": 38,
   "metadata": {},
   "outputs": [
    {
     "name": "stdout",
     "output_type": "stream",
     "text": [
      "traindata:  (18, 3)\n",
      "testdata :  (9, 3)\n"
     ]
    }
   ],
   "source": [
    "print('traindata: ',x_train.shape)\n",
    "print('testdata : ',x_test.shape)"
   ]
  },
  {
   "cell_type": "code",
   "execution_count": 39,
   "metadata": {},
   "outputs": [],
   "source": [
    "from sklearn.linear_model import LinearRegression\n"
   ]
  },
  {
   "cell_type": "code",
   "execution_count": 40,
   "metadata": {},
   "outputs": [],
   "source": [
    "lr = LinearRegression()"
   ]
  },
  {
   "cell_type": "code",
   "execution_count": 41,
   "metadata": {},
   "outputs": [
    {
     "data": {
      "text/html": [
       "<style>#sk-container-id-1 {color: black;}#sk-container-id-1 pre{padding: 0;}#sk-container-id-1 div.sk-toggleable {background-color: white;}#sk-container-id-1 label.sk-toggleable__label {cursor: pointer;display: block;width: 100%;margin-bottom: 0;padding: 0.3em;box-sizing: border-box;text-align: center;}#sk-container-id-1 label.sk-toggleable__label-arrow:before {content: \"▸\";float: left;margin-right: 0.25em;color: #696969;}#sk-container-id-1 label.sk-toggleable__label-arrow:hover:before {color: black;}#sk-container-id-1 div.sk-estimator:hover label.sk-toggleable__label-arrow:before {color: black;}#sk-container-id-1 div.sk-toggleable__content {max-height: 0;max-width: 0;overflow: hidden;text-align: left;background-color: #f0f8ff;}#sk-container-id-1 div.sk-toggleable__content pre {margin: 0.2em;color: black;border-radius: 0.25em;background-color: #f0f8ff;}#sk-container-id-1 input.sk-toggleable__control:checked~div.sk-toggleable__content {max-height: 200px;max-width: 100%;overflow: auto;}#sk-container-id-1 input.sk-toggleable__control:checked~label.sk-toggleable__label-arrow:before {content: \"▾\";}#sk-container-id-1 div.sk-estimator input.sk-toggleable__control:checked~label.sk-toggleable__label {background-color: #d4ebff;}#sk-container-id-1 div.sk-label input.sk-toggleable__control:checked~label.sk-toggleable__label {background-color: #d4ebff;}#sk-container-id-1 input.sk-hidden--visually {border: 0;clip: rect(1px 1px 1px 1px);clip: rect(1px, 1px, 1px, 1px);height: 1px;margin: -1px;overflow: hidden;padding: 0;position: absolute;width: 1px;}#sk-container-id-1 div.sk-estimator {font-family: monospace;background-color: #f0f8ff;border: 1px dotted black;border-radius: 0.25em;box-sizing: border-box;margin-bottom: 0.5em;}#sk-container-id-1 div.sk-estimator:hover {background-color: #d4ebff;}#sk-container-id-1 div.sk-parallel-item::after {content: \"\";width: 100%;border-bottom: 1px solid gray;flex-grow: 1;}#sk-container-id-1 div.sk-label:hover label.sk-toggleable__label {background-color: #d4ebff;}#sk-container-id-1 div.sk-serial::before {content: \"\";position: absolute;border-left: 1px solid gray;box-sizing: border-box;top: 0;bottom: 0;left: 50%;z-index: 0;}#sk-container-id-1 div.sk-serial {display: flex;flex-direction: column;align-items: center;background-color: white;padding-right: 0.2em;padding-left: 0.2em;position: relative;}#sk-container-id-1 div.sk-item {position: relative;z-index: 1;}#sk-container-id-1 div.sk-parallel {display: flex;align-items: stretch;justify-content: center;background-color: white;position: relative;}#sk-container-id-1 div.sk-item::before, #sk-container-id-1 div.sk-parallel-item::before {content: \"\";position: absolute;border-left: 1px solid gray;box-sizing: border-box;top: 0;bottom: 0;left: 50%;z-index: -1;}#sk-container-id-1 div.sk-parallel-item {display: flex;flex-direction: column;z-index: 1;position: relative;background-color: white;}#sk-container-id-1 div.sk-parallel-item:first-child::after {align-self: flex-end;width: 50%;}#sk-container-id-1 div.sk-parallel-item:last-child::after {align-self: flex-start;width: 50%;}#sk-container-id-1 div.sk-parallel-item:only-child::after {width: 0;}#sk-container-id-1 div.sk-dashed-wrapped {border: 1px dashed gray;margin: 0 0.4em 0.5em 0.4em;box-sizing: border-box;padding-bottom: 0.4em;background-color: white;}#sk-container-id-1 div.sk-label label {font-family: monospace;font-weight: bold;display: inline-block;line-height: 1.2em;}#sk-container-id-1 div.sk-label-container {text-align: center;}#sk-container-id-1 div.sk-container {/* jupyter's `normalize.less` sets `[hidden] { display: none; }` but bootstrap.min.css set `[hidden] { display: none !important; }` so we also need the `!important` here to be able to override the default hidden behavior on the sphinx rendered scikit-learn.org. See: https://github.com/scikit-learn/scikit-learn/issues/21755 */display: inline-block !important;position: relative;}#sk-container-id-1 div.sk-text-repr-fallback {display: none;}</style><div id=\"sk-container-id-1\" class=\"sk-top-container\"><div class=\"sk-text-repr-fallback\"><pre>LinearRegression()</pre><b>In a Jupyter environment, please rerun this cell to show the HTML representation or trust the notebook. <br />On GitHub, the HTML representation is unable to render, please try loading this page with nbviewer.org.</b></div><div class=\"sk-container\" hidden><div class=\"sk-item\"><div class=\"sk-estimator sk-toggleable\"><input class=\"sk-toggleable__control sk-hidden--visually\" id=\"sk-estimator-id-1\" type=\"checkbox\" checked><label for=\"sk-estimator-id-1\" class=\"sk-toggleable__label sk-toggleable__label-arrow\">LinearRegression</label><div class=\"sk-toggleable__content\"><pre>LinearRegression()</pre></div></div></div></div></div>"
      ],
      "text/plain": [
       "LinearRegression()"
      ]
     },
     "execution_count": 41,
     "metadata": {},
     "output_type": "execute_result"
    }
   ],
   "source": [
    "lr.fit(x_train, y_train)"
   ]
  },
  {
   "cell_type": "code",
   "execution_count": 42,
   "metadata": {},
   "outputs": [
    {
     "name": "stdout",
     "output_type": "stream",
     "text": [
      "0.9566727500121981\n"
     ]
    }
   ],
   "source": [
    "r_square = lr.score(x_test,y_test)\n",
    "print(r_square)\n"
   ]
  },
  {
   "cell_type": "code",
   "execution_count": 44,
   "metadata": {},
   "outputs": [
    {
     "name": "stdout",
     "output_type": "stream",
     "text": [
      "상수항 b 13.296203302872826\n"
     ]
    }
   ],
   "source": [
    "print('상수항 b', lr.intercept_)"
   ]
  },
  {
   "cell_type": "code",
   "execution_count": 45,
   "metadata": {},
   "outputs": [],
   "source": [
    "y_hat = lr.predict(x_test)"
   ]
  },
  {
   "cell_type": "code",
   "execution_count": 46,
   "metadata": {},
   "outputs": [
    {
     "data": {
      "image/png": "[encoded data removed]",
      "text/plain": [
       "<Figure size 1000x500 with 1 Axes>"
      ]
     },
     "metadata": {},
     "output_type": "display_data"
    }
   ],
   "source": [
    "plt.figure(figsize=(10,5))\n",
    "ax1=sns.kdeplot(y_test,label=\"y_test\")\n",
    "ax2= sns.kdeplot(y_hat, label=\"y_hat\",ax=ax1)\n",
    "plt.legend()\n",
    "plt.show() #전체적인 회귀"
   ]
  },
  {
   "cell_type": "code",
   "execution_count": 47,
   "metadata": {},
   "outputs": [
    {
     "name": "stderr",
     "output_type": "stream",
     "text": [
      "c:\\Users\\CBNU\\AppData\\Local\\Programs\\Python\\Python312\\Lib\\site-packages\\seaborn\\axisgrid.py:123: UserWarning: Glyph 65286 (\\N{FULLWIDTH AMPERSAND}) missing from current font.\n",
      "  self._figure.tight_layout(*args, **kwargs)\n",
      "C:\\Users\\CBNU\\AppData\\Roaming\\Python\\Python312\\site-packages\\IPython\\core\\pylabtools.py:152: UserWarning: Glyph 65286 (\\N{FULLWIDTH AMPERSAND}) missing from current font.\n",
      "  fig.canvas.print_figure(bytes_io, **kw)\n"
     ]
    },
    {
     "data": {
      "image/png": "[encoded data removed]",
      "text/plain": [
       "<Figure size 1000x1000 with 20 Axes>"
      ]
     },
     "metadata": {},
     "output_type": "display_data"
    }
   ],
   "source": [
    "import pandas as pd\n",
    "import seaborn as sns\n",
    "import matplotlib.pyplot as plt\n",
    "\n",
    "# 독립 변수 열 선택\n",
    "independent_variable_columns = ['Agricultural ＆ marine products', 'Electricity and Gas and Water', 'Industrial products']\n",
    "\n",
    "# 종속 변수 열 선택\n",
    "dependent_variable_column = 'Personal services'  \n",
    "\n",
    "# 데이터프레임에서 필요한 열만 추출\n",
    "data = ndf[independent_variable_columns + [dependent_variable_column]]\n",
    "\n",
    "# seaborn을 사용하여 부분 회귀 플롯 그리기\n",
    "sns.pairplot(data)\n",
    "plt.show()\n"
   ]
  },
  {
   "cell_type": "code",
   "execution_count": 48,
   "metadata": {},
   "outputs": [
    {
     "name": "stdout",
     "output_type": "stream",
     "text": [
      "Agricultural ＆ marine products의 계수: 0.31862974426086343\n",
      "Electricity and Gas and Water의 계수: 0.11860096775422768\n",
      "Industrial products의 계수: 0.4575206998178429\n"
     ]
    }
   ],
   "source": [
    "independent_variable_columns = ['Agricultural ＆ marine products', 'Electricity and Gas and Water', 'Industrial products']\n",
    "\n",
    "# 종속 변수 열 선택\n",
    "dependent_variable_column = 'Personal services'\n",
    "\n",
    "# 데이터프레임에서 필요한 열만 추출\n",
    "data = ndf[independent_variable_columns + [dependent_variable_column]]\n",
    "\n",
    "# 독립 변수와 종속 변수를 분리\n",
    "X = data[independent_variable_columns]\n",
    "y = data[dependent_variable_column]\n",
    "\n",
    "# 회귀 모델 초기화 및 학습\n",
    "model = LinearRegression()\n",
    "model.fit(X, y)\n",
    "\n",
    "# 각 독립 변수의 계수 확인\n",
    "coefficients = model.coef_\n",
    "\n",
    "# 결과 출력\n",
    "for i in range(len(independent_variable_columns)):\n",
    "    print(f\"{independent_variable_columns[i]}의 계수: {coefficients[i]}\")"
   ]
  },
  {
   "cell_type": "code",
   "execution_count": 49,
   "metadata": {},
   "outputs": [
    {
     "name": "stdout",
     "output_type": "stream",
     "text": [
      "상관 행렬:\n",
      "분야                              Agricultural ＆ marine products  \\\n",
      "분야                                                               \n",
      "Agricultural ＆ marine products                        1.000000   \n",
      "Electricity and Gas and Water                         0.531622   \n",
      "Industrial products                                   0.847938   \n",
      "\n",
      "분야                              Electricity and Gas and Water  \\\n",
      "분야                                                              \n",
      "Agricultural ＆ marine products                       0.531622   \n",
      "Electricity and Gas and Water                        1.000000   \n",
      "Industrial products                                  0.815413   \n",
      "\n",
      "분야                              Industrial products  \n",
      "분야                                                   \n",
      "Agricultural ＆ marine products             0.847938  \n",
      "Electricity and Gas and Water              0.815413  \n",
      "Industrial products                        1.000000  \n",
      "\n",
      "VIF:\n",
      "                         Variable          VIF\n",
      "0                           const  1358.170566\n",
      "1  Agricultural ＆ marine products     4.882843\n",
      "2   Electricity and Gas and Water     4.094535\n",
      "3             Industrial products    10.453097\n"
     ]
    }
   ],
   "source": [
    "import pandas as pd\n",
    "from statsmodels.stats.outliers_influence import variance_inflation_factor\n",
    "import statsmodels.api as sm\n",
    "\n",
    "# 독립 변수 열 선택\n",
    "independent_variable_columns = ['Agricultural ＆ marine products', 'Electricity and Gas and Water', 'Industrial products']\n",
    "\n",
    "# 데이터프레임에서 필요한 열만 추출\n",
    "data = ndf[independent_variable_columns]\n",
    "\n",
    "# 상관 행렬 확인\n",
    "correlation_matrix = data.corr()\n",
    "print(\"상관 행렬:\")\n",
    "print(correlation_matrix)\n",
    "\n",
    "# VIF 확인\n",
    "X = sm.add_constant(data)\n",
    "vif_data = pd.DataFrame()\n",
    "vif_data[\"Variable\"] = X.columns\n",
    "vif_data[\"VIF\"] = [variance_inflation_factor(X.values, i) for i in range(X.shape[1])]\n",
    "print(\"\\nVIF:\")\n",
    "print(vif_data)\n"
   ]
  },
  {
   "cell_type": "code",
   "execution_count": 50,
   "metadata": {},
   "outputs": [
    {
     "name": "stdout",
     "output_type": "stream",
     "text": [
      "                            OLS Regression Results                            \n",
      "==============================================================================\n",
      "Dep. Variable:      Personal services   R-squared:                       0.947\n",
      "Model:                            OLS   Adj. R-squared:                  0.942\n",
      "Method:                 Least Squares   F-statistic:                     212.6\n",
      "Date:                Wed, 06 Dec 2023   Prob (F-statistic):           5.40e-16\n",
      "Time:                        12:48:32   Log-Likelihood:                -46.266\n",
      "No. Observations:                  27   AIC:                             98.53\n",
      "Df Residuals:                      24   BIC:                             102.4\n",
      "Df Model:                           2                                         \n",
      "Covariance Type:            nonrobust                                         \n",
      "==================================================================================================\n",
      "                                     coef    std err          t      P>|t|      [0.025      0.975]\n",
      "--------------------------------------------------------------------------------------------------\n",
      "const                             32.1170      3.382      9.495      0.000      25.136      39.098\n",
      "Agricultural ＆ marine products     0.4549      0.036     12.544      0.000       0.380       0.530\n",
      "Electricity and Gas and Water      0.2194      0.030      7.195      0.000       0.156       0.282\n",
      "==============================================================================\n",
      "Omnibus:                        0.622   Durbin-Watson:                   0.797\n",
      "Prob(Omnibus):                  0.733   Jarque-Bera (JB):                0.092\n",
      "Skew:                          -0.121   Prob(JB):                        0.955\n",
      "Kurtosis:                       3.153   Cond. No.                     1.82e+03\n",
      "==============================================================================\n",
      "\n",
      "Notes:\n",
      "[1] Standard Errors assume that the covariance matrix of the errors is correctly specified.\n",
      "[2] The condition number is large, 1.82e+03. This might indicate that there are\n",
      "strong multicollinearity or other numerical problems.\n"
     ]
    }
   ],
   "source": [
    "# 'Industrial products' 변수를 제외한 독립 변수 열 선택\n",
    "independent_variable_columns_updated = ['Agricultural ＆ marine products', 'Electricity and Gas and Water']\n",
    "\n",
    "# 데이터프레임에서 필요한 열만 추출\n",
    "data_updated = ndf[independent_variable_columns_updated + ['Personal services']]\n",
    "\n",
    "# 독립 변수와 종속 변수를 분리\n",
    "X_updated = sm.add_constant(data_updated[independent_variable_columns_updated])\n",
    "y_updated = data_updated['Personal services']\n",
    "\n",
    "# 새로운 모델 초기화 및 학습\n",
    "model_updated = sm.OLS(y_updated, X_updated).fit()\n",
    "\n",
    "# 새로운 모델의 요약 정보 출력\n",
    "print(model_updated.summary())\n"
   ]
  },
  {
   "cell_type": "markdown",
   "metadata": {},
   "source": [
    "회귀 모델 요약:\n",
    "\n",
    "결정계수(R-squared): 0.947\n",
    "수정된 결정계수(Adj. R-squared): 0.942\n",
    "F 통계량: 212.6\n",
    "F 통계량의 p-value: 5.40e-16 (매우 작음)\n",
    "계수 (회귀 계수):\n",
    "\n",
    "'Agricultural ＆ marine products'의 회귀 계수: 0.4549\n",
    "'Electricity and Gas and Water'의 회귀 계수: 0.2194\n",
    "통계적 유의성 (P-value):\n",
    "\n",
    "'Agricultural ＆ marine products'의 P-value: 0.000 (통계적으로 유의함)\n",
    "'Electricity and Gas and Water'의 P-value: 0.000 (통계적으로 유의함)\n",
    "해석:\n",
    "\n",
    "새로운 모델은 전체 데이터의 94.7%를 설명하는 것으로 나타났습니다 (R-squared).\n",
    "'Agricultural ＆ marine products'와 'Electricity and Gas and Water' 변수들은 종속 변수인 'Personal services'에 통계적으로 유의미한 영향을 미치는 것으로 나타났습니다.\n",
    "주의 사항:\n",
    "\n",
    "모델의 조건 수(condition number)가 크게 나타났습니다. 이는 강한 다중 공선성 또는 다른 수치적 문제가 있을 수 있다는 신호일 수 있습니다.\n",
    "추가 조치:\n",
    "\n",
    "다중 공선성이 여전히 문제가 될 수 있으므로, 조금 더 변수를 조정하거나 추가적인 다중 공선성 진단을 수행하는 것이 좋습니다.\n",
    "변수 선택이나 변수 변환 기법을 사용하여 모델을 개선하고, 필요한 경우에는 다른 변수를 추가하거나 제거하여 모델을 더욱 믿을 수 있게 만들어 볼 수 있습니다."
   ]
  },
  {
   "cell_type": "code",
   "execution_count": 52,
   "metadata": {},
   "outputs": [
    {
     "name": "stdout",
     "output_type": "stream",
     "text": [
      "VIF:\n",
      "                         Variable         VIF\n",
      "0                           const  152.317590\n",
      "1  Agricultural ＆ marine products    1.393964\n",
      "2   Electricity and Gas and Water    1.393964\n"
     ]
    }
   ],
   "source": [
    "\n",
    "# 독립 변수 열 선택\n",
    "independent_variable_columns = ['Agricultural ＆ marine products', 'Electricity and Gas and Water']\n",
    "\n",
    "# 데이터프레임에서 필요한 열만 추출\n",
    "data = ndf[independent_variable_columns]\n",
    "\n",
    "# 상수 열 추가\n",
    "X = sm.add_constant(data)\n",
    "\n",
    "# VIF 계산\n",
    "vif_data = pd.DataFrame()\n",
    "vif_data[\"Variable\"] = X.columns\n",
    "vif_data[\"VIF\"] = [variance_inflation_factor(X.values, i) for i in range(X.shape[1])]\n",
    "\n",
    "# 결과 출력\n",
    "print(\"VIF:\")\n",
    "print(vif_data)\n"
   ]
  },
  {
   "cell_type": "markdown",
   "metadata": {},
   "source": [
    "VIF 결과:\n",
    "\n",
    "'Agricultural ＆ marine products'의 VIF: 1.39\n",
    "'Electricity and Gas and Water'의 VIF: 1.39\n",
    "상수 (const)의 VIF: 152.32\n",
    "해석:\n",
    "\n",
    "'Agricultural ＆ marine products'와 'Electricity and Gas and Water' 변수들의 VIF가 모두 1.39로, 일반적으로는 다중 공선성이 문제가 없을 정도로 낮게 나타났습니다.\n",
    "상수 항(const)의 VIF는 152.32로 높게 나타났으나, 상수 항의 다중 공선성은 큰 문제가 되지 않습니다.\n",
    "결론:\n",
    "\n",
    "현재의 결과에서는 선택한 독립 변수들 간에 다중 공선성이 크게 나타나지 않습니다.\n"
   ]
  },
  {
   "cell_type": "code",
   "execution_count": 54,
   "metadata": {},
   "outputs": [],
   "source": [
    "x_new = ndf[['Agricultural ＆ marine products','Electricity and Gas and Water']]\n",
    "y_new =ndf['Personal services']"
   ]
  },
  {
   "cell_type": "code",
   "execution_count": 55,
   "metadata": {},
   "outputs": [],
   "source": [
    "x_new_train, x_new_test, y_new_train, y_new_test = train_test_split(x_new,y_new,test_size=0.3,random_state=10)"
   ]
  },
  {
   "cell_type": "code",
   "execution_count": 56,
   "metadata": {},
   "outputs": [
    {
     "name": "stdout",
     "output_type": "stream",
     "text": [
      "traindata:  (18, 2)\n",
      "testdata :  (9, 2)\n"
     ]
    }
   ],
   "source": [
    "print('traindata: ',x_new_train.shape)\n",
    "print('testdata : ',x_new_test.shape)"
   ]
  },
  {
   "cell_type": "code",
   "execution_count": 57,
   "metadata": {},
   "outputs": [
    {
     "data": {
      "text/html": [
       "<style>#sk-container-id-2 {color: black;}#sk-container-id-2 pre{padding: 0;}#sk-container-id-2 div.sk-toggleable {background-color: white;}#sk-container-id-2 label.sk-toggleable__label {cursor: pointer;display: block;width: 100%;margin-bottom: 0;padding: 0.3em;box-sizing: border-box;text-align: center;}#sk-container-id-2 label.sk-toggleable__label-arrow:before {content: \"▸\";float: left;margin-right: 0.25em;color: #696969;}#sk-container-id-2 label.sk-toggleable__label-arrow:hover:before {color: black;}#sk-container-id-2 div.sk-estimator:hover label.sk-toggleable__label-arrow:before {color: black;}#sk-container-id-2 div.sk-toggleable__content {max-height: 0;max-width: 0;overflow: hidden;text-align: left;background-color: #f0f8ff;}#sk-container-id-2 div.sk-toggleable__content pre {margin: 0.2em;color: black;border-radius: 0.25em;background-color: #f0f8ff;}#sk-container-id-2 input.sk-toggleable__control:checked~div.sk-toggleable__content {max-height: 200px;max-width: 100%;overflow: auto;}#sk-container-id-2 input.sk-toggleable__control:checked~label.sk-toggleable__label-arrow:before {content: \"▾\";}#sk-container-id-2 div.sk-estimator input.sk-toggleable__control:checked~label.sk-toggleable__label {background-color: #d4ebff;}#sk-container-id-2 div.sk-label input.sk-toggleable__control:checked~label.sk-toggleable__label {background-color: #d4ebff;}#sk-container-id-2 input.sk-hidden--visually {border: 0;clip: rect(1px 1px 1px 1px);clip: rect(1px, 1px, 1px, 1px);height: 1px;margin: -1px;overflow: hidden;padding: 0;position: absolute;width: 1px;}#sk-container-id-2 div.sk-estimator {font-family: monospace;background-color: #f0f8ff;border: 1px dotted black;border-radius: 0.25em;box-sizing: border-box;margin-bottom: 0.5em;}#sk-container-id-2 div.sk-estimator:hover {background-color: #d4ebff;}#sk-container-id-2 div.sk-parallel-item::after {content: \"\";width: 100%;border-bottom: 1px solid gray;flex-grow: 1;}#sk-container-id-2 div.sk-label:hover label.sk-toggleable__label {background-color: #d4ebff;}#sk-container-id-2 div.sk-serial::before {content: \"\";position: absolute;border-left: 1px solid gray;box-sizing: border-box;top: 0;bottom: 0;left: 50%;z-index: 0;}#sk-container-id-2 div.sk-serial {display: flex;flex-direction: column;align-items: center;background-color: white;padding-right: 0.2em;padding-left: 0.2em;position: relative;}#sk-container-id-2 div.sk-item {position: relative;z-index: 1;}#sk-container-id-2 div.sk-parallel {display: flex;align-items: stretch;justify-content: center;background-color: white;position: relative;}#sk-container-id-2 div.sk-item::before, #sk-container-id-2 div.sk-parallel-item::before {content: \"\";position: absolute;border-left: 1px solid gray;box-sizing: border-box;top: 0;bottom: 0;left: 50%;z-index: -1;}#sk-container-id-2 div.sk-parallel-item {display: flex;flex-direction: column;z-index: 1;position: relative;background-color: white;}#sk-container-id-2 div.sk-parallel-item:first-child::after {align-self: flex-end;width: 50%;}#sk-container-id-2 div.sk-parallel-item:last-child::after {align-self: flex-start;width: 50%;}#sk-container-id-2 div.sk-parallel-item:only-child::after {width: 0;}#sk-container-id-2 div.sk-dashed-wrapped {border: 1px dashed gray;margin: 0 0.4em 0.5em 0.4em;box-sizing: border-box;padding-bottom: 0.4em;background-color: white;}#sk-container-id-2 div.sk-label label {font-family: monospace;font-weight: bold;display: inline-block;line-height: 1.2em;}#sk-container-id-2 div.sk-label-container {text-align: center;}#sk-container-id-2 div.sk-container {/* jupyter's `normalize.less` sets `[hidden] { display: none; }` but bootstrap.min.css set `[hidden] { display: none !important; }` so we also need the `!important` here to be able to override the default hidden behavior on the sphinx rendered scikit-learn.org. See: https://github.com/scikit-learn/scikit-learn/issues/21755 */display: inline-block !important;position: relative;}#sk-container-id-2 div.sk-text-repr-fallback {display: none;}</style><div id=\"sk-container-id-2\" class=\"sk-top-container\"><div class=\"sk-text-repr-fallback\"><pre>LinearRegression()</pre><b>In a Jupyter environment, please rerun this cell to show the HTML representation or trust the notebook. <br />On GitHub, the HTML representation is unable to render, please try loading this page with nbviewer.org.</b></div><div class=\"sk-container\" hidden><div class=\"sk-item\"><div class=\"sk-estimator sk-toggleable\"><input class=\"sk-toggleable__control sk-hidden--visually\" id=\"sk-estimator-id-2\" type=\"checkbox\" checked><label for=\"sk-estimator-id-2\" class=\"sk-toggleable__label sk-toggleable__label-arrow\">LinearRegression</label><div class=\"sk-toggleable__content\"><pre>LinearRegression()</pre></div></div></div></div></div>"
      ],
      "text/plain": [
       "LinearRegression()"
      ]
     },
     "execution_count": 57,
     "metadata": {},
     "output_type": "execute_result"
    }
   ],
   "source": [
    "new_lr = LinearRegression()\n",
    "new_lr.fit(x_new_train, y_new_train)"
   ]
  },
  {
   "cell_type": "code",
   "execution_count": 58,
   "metadata": {},
   "outputs": [
    {
     "name": "stdout",
     "output_type": "stream",
     "text": [
      "0.9325743137617126\n"
     ]
    }
   ],
   "source": [
    "r_new_square = new_lr.score(x_new_test,y_new_test)\n",
    "print(r_new_square)"
   ]
  },
  {
   "cell_type": "code",
   "execution_count": 59,
   "metadata": {},
   "outputs": [
    {
     "name": "stdout",
     "output_type": "stream",
     "text": [
      "x_new 변수의 계수 a : [0.42189908 0.23915931]\n",
      "상수항 b 33.44595710466197\n"
     ]
    }
   ],
   "source": [
    "print('x_new 변수의 계수 a :', new_lr.coef_)\n",
    "print('상수항 b', new_lr.intercept_)"
   ]
  },
  {
   "cell_type": "code",
   "execution_count": 60,
   "metadata": {},
   "outputs": [
    {
     "data": {
      "image/png": "[encoded data removed]",
      "text/plain": [
       "<Figure size 1000x500 with 1 Axes>"
      ]
     },
     "metadata": {},
     "output_type": "display_data"
    }
   ],
   "source": [
    "y_new_hat = new_lr.predict(x_new_test)\n",
    "plt.figure(figsize=(10,5))\n",
    "ax1=sns.kdeplot(y_new_test,label=\"y_new_test\")\n",
    "ax2= sns.kdeplot(y_new_hat, label=\"y_new_hat\",ax=ax1)\n",
    "plt.legend()\n",
    "plt.show() #전체적인 회귀"
   ]
  }
 ],
 "metadata": {
  "kernelspec": {
   "display_name": "Python 3",
   "language": "python",
   "name": "python3"
  },
  "language_info": {
   "codemirror_mode": {
    "name": "ipython",
    "version": 3
   },
   "file_extension": ".py",
   "mimetype": "text/x-python",
   "name": "python",
   "nbconvert_exporter": "python",
   "pygments_lexer": "ipython3",
   "version": "3.12.0"
  }
 },
 "nbformat": 4,
 "nbformat_minor": 2
}
